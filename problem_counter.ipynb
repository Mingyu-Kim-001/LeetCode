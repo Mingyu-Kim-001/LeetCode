{
 "cells": [
  {
   "cell_type": "code",
   "execution_count": 93,
   "metadata": {},
   "outputs": [],
   "source": [
    "import os\n",
    "from os.path import join,isdir\n",
    "import pandas as pd\n",
    "problem_types = []\n",
    "problem_difficulty = [\"easy\",\"medium\",\"hard\"]\n",
    "counter = pd.DataFrame(index=problem_difficulty+[\"total\"])\n",
    "for problem_type in os.listdir():\n",
    "    if isdir(problem_type) and problem_type[0]!=\".\":\n",
    "        problem_types.append(problem_type)\n",
    "        counter[problem_type] = [0,0,0,0]\n",
    "        for difficulty in problem_difficulty:\n",
    "            if difficulty in os.listdir(join(os.getcwd(),problem_type)):\n",
    "                for problem in os.listdir(join(os.getcwd(),problem_type,difficulty)):\n",
    "                    if problem[0]!=\".\":\n",
    "                        counter[problem_type][difficulty]+=1\n",
    "counter[\"total\"] = counter.sum(axis=1)\n",
    "counter.loc[\"total\",:] = counter.sum(axis=0)\n",
    "mdTable = counter.to_markdown()\n",
    "\n",
    "with open(\"problem_worth_resolve.md\",\"r\") as resolve, open(\"README.md\", \"w\") as readme:\n",
    "    readme.write(\"# LeetCode\\nProblems solved\\n\\n\"+mdTable+\"\\n\\n\"+resolve.read())\n"
   ]
  },
  {
   "cell_type": "code",
   "execution_count": null,
   "metadata": {},
   "outputs": [],
   "source": []
  }
 ],
 "metadata": {
  "kernelspec": {
   "display_name": "Python 3",
   "language": "python",
   "name": "python3"
  },
  "language_info": {
   "codemirror_mode": {
    "name": "ipython",
    "version": 3
   },
   "file_extension": ".py",
   "mimetype": "text/x-python",
   "name": "python",
   "nbconvert_exporter": "python",
   "pygments_lexer": "ipython3",
   "version": "3.8.5"
  }
 },
 "nbformat": 4,
 "nbformat_minor": 4
}
