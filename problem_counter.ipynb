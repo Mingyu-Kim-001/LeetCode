{
 "cells": [
  {
   "cell_type": "code",
   "execution_count": 43,
   "metadata": {},
   "outputs": [],
   "source": [
    "import os\n",
    "from os.path import join,isdir\n",
    "import pandas as pd\n",
    "problem_types = []\n",
    "problem_difficulty = [\"easy\",\"medium\",\"hard\"]\n",
    "counter = pd.DataFrame(index=problem_difficulty+[\"total\"])\n",
    "for problem_type in os.listdir():\n",
    "    if isdir(problem_type) and problem_type[0]!=\".\":\n",
    "        problem_types.append(problem_type)\n",
    "        counter[problem_type] = [0,0,0,0]\n",
    "        for difficulty in problem_difficulty:\n",
    "            if difficulty in os.listdir(join(os.getcwd(),problem_type)):\n",
    "                for problem in os.listdir(join(os.getcwd(),problem_type,difficulty)):\n",
    "                    if problem[0]!=\".\":\n",
    "                        counter[problem_type][difficulty]+=1\n",
    "counter[\"total\"] = counter.sum(axis=1)\n",
    "counter.loc[\"total\",:] = counter.sum(axis=0)\n",
    "mdTable = counter.to_markdown(tablefmt=\"grid\")"
   ]
  },
  {
   "cell_type": "code",
   "execution_count": 45,
   "metadata": {},
   "outputs": [
    {
     "ename": "AttributeError",
     "evalue": "'_io.TextIOWrapper' object has no attribute 'text'",
     "output_type": "error",
     "traceback": [
      "\u001b[0;31m---------------------------------------------------------------------------\u001b[0m",
      "\u001b[0;31mAttributeError\u001b[0m                            Traceback (most recent call last)",
      "\u001b[0;32m<ipython-input-45-9e8fe746213c>\u001b[0m in \u001b[0;36m<module>\u001b[0;34m\u001b[0m\n\u001b[1;32m      1\u001b[0m \u001b[0mmdFile\u001b[0m \u001b[0;34m=\u001b[0m \u001b[0mopen\u001b[0m\u001b[0;34m(\u001b[0m\u001b[0;34m\"a.md\"\u001b[0m\u001b[0;34m,\u001b[0m \u001b[0;34m\"w\"\u001b[0m\u001b[0;34m)\u001b[0m\u001b[0;34m;\u001b[0m\u001b[0;34m\u001b[0m\u001b[0;34m\u001b[0m\u001b[0m\n\u001b[0;32m----> 2\u001b[0;31m \u001b[0mmdFile\u001b[0m\u001b[0;34m.\u001b[0m\u001b[0mtext\u001b[0m\u001b[0;34m(\u001b[0m\u001b[0;34m)\u001b[0m\u001b[0;34m\u001b[0m\u001b[0;34m\u001b[0m\u001b[0m\n\u001b[0m",
      "\u001b[0;31mAttributeError\u001b[0m: '_io.TextIOWrapper' object has no attribute 'text'"
     ]
    }
   ],
   "source": [
    "with open(\"a.md\", \"w\") as mdFile:\n",
    "    \n",
    "mdFile.text()"
   ]
  },
  {
   "cell_type": "code",
   "execution_count": 47,
   "metadata": {},
   "outputs": [
    {
     "data": {
      "text/plain": [
       "str"
      ]
     },
     "execution_count": 47,
     "metadata": {},
     "output_type": "execute_result"
    }
   ],
   "source": [
    "type(mdTable)"
   ]
  },
  {
   "cell_type": "code",
   "execution_count": 31,
   "metadata": {},
   "outputs": [
    {
     "data": {
      "text/plain": [
       "Tree                   10\n",
       "Two Pointers            3\n",
       "Graph                   9\n",
       "Dynamic Programming     7\n",
       "Heap                    2\n",
       "Arrays                 33\n",
       "Binary                  1\n",
       "String                  8\n",
       "Linked List             9\n",
       "total                  82\n",
       "dtype: int64"
      ]
     },
     "execution_count": 31,
     "metadata": {},
     "output_type": "execute_result"
    }
   ],
   "source": [
    "counter.sum(axis=0)"
   ]
  },
  {
   "cell_type": "code",
   "execution_count": 34,
   "metadata": {},
   "outputs": [],
   "source": [
    "counter.loc[\"total\",:] = counter.sum(axis=0)"
   ]
  },
  {
   "cell_type": "code",
   "execution_count": null,
   "metadata": {},
   "outputs": [],
   "source": []
  }
 ],
 "metadata": {
  "kernelspec": {
   "display_name": "Python 3",
   "language": "python",
   "name": "python3"
  },
  "language_info": {
   "codemirror_mode": {
    "name": "ipython",
    "version": 3
   },
   "file_extension": ".py",
   "mimetype": "text/x-python",
   "name": "python",
   "nbconvert_exporter": "python",
   "pygments_lexer": "ipython3",
   "version": "3.8.5"
  }
 },
 "nbformat": 4,
 "nbformat_minor": 4
}
