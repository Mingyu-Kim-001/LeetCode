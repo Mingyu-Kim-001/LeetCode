{
 "cells": [
  {
   "cell_type": "code",
   "execution_count": 10,
   "id": "numerous-franklin",
   "metadata": {},
   "outputs": [
    {
     "name": "stdout",
     "output_type": "stream",
     "text": [
      "1 2\n",
      "0 0 [[False, False]]\n",
      "0 1 [[True, False]]\n",
      "0 0 [[True, True]]\n"
     ]
    },
    {
     "data": {
      "text/plain": [
       "2"
      ]
     },
     "execution_count": 10,
     "metadata": {},
     "output_type": "execute_result"
    }
   ],
   "source": [
    "class Solution:\n",
    "    def longestIncreasingPath(self, matrix) -> int:\n",
    "\n",
    "        m,n = len(matrix), len(matrix[0])\n",
    "        moves = [[1,0],[0,1],[-1,0],[0,-1]]\n",
    "        longest_len = [[1]*n for _ in range(m)]\n",
    "        is_visit = [[False]*n for _ in range(m)]\n",
    "        def is_in_board(x,y):\n",
    "            return 0 <= x < m and 0 <= y < n\n",
    "        def DFS(x,y):\n",
    "            print(x,y,is_visit)\n",
    "            if is_visit[x][y]:\n",
    "                return longest_len[x][y]\n",
    "            is_visit[x][y] = True\n",
    "            for movex,movey in moves:\n",
    "                newx,newy = x + movex, y + movey\n",
    "                if is_in_board(newx,newy) and matrix[newx][newy] < matrix[x][y]:\n",
    "                    longest_len[x][y] = max(longest_len[x][y], DFS(newx,newy)+1)\n",
    "            return longest_len[x][y]\n",
    "        ans = -1\n",
    "        for i in range(m):\n",
    "            for j in range(n):\n",
    "                ans = max(ans,DFS(i,j))\n",
    "        return ans\n",
    "Solution().longestIncreasingPath([[1,2]])"
   ]
  },
  {
   "cell_type": "code",
   "execution_count": null,
   "id": "palestinian-junior",
   "metadata": {},
   "outputs": [],
   "source": []
  }
 ],
 "metadata": {
  "kernelspec": {
   "display_name": "Python 3",
   "language": "python",
   "name": "python3"
  },
  "language_info": {
   "codemirror_mode": {
    "name": "ipython",
    "version": 3
   },
   "file_extension": ".py",
   "mimetype": "text/x-python",
   "name": "python",
   "nbconvert_exporter": "python",
   "pygments_lexer": "ipython3",
   "version": "3.8.5"
  }
 },
 "nbformat": 4,
 "nbformat_minor": 5
}
